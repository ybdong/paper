{
 "cells": [
  {
   "cell_type": "code",
   "execution_count": 2,
   "metadata": {},
   "outputs": [],
   "source": [
    "caffe_root = '../'  # this file should be run from {caffe_root}/examples (otherwise change this line)\n",
    "\n",
    "import sys\n",
    "sys.path.insert(0, caffe_root + 'python')\n",
    "import caffe\n",
    "\n",
    "caffe.set_device(0)\n",
    "caffe.set_mode_gpu()\n",
    "\n",
    "import numpy as np\n",
    "from pylab import *\n",
    "%matplotlib inline\n",
    "import tempfile\n",
    "\n",
    "# Helper function for deprocessing preprocessed images, e.g., for display.\n",
    "def deprocess_net_image(image):\n",
    "    image = image.copy()              # don't modify destructively\n",
    "    image = image[::-1]               # BGR -> RGB\n",
    "    image = image.transpose(1, 2, 0)  # CHW -> HWC\n",
    "    image += [123, 117, 104]          # (approximately) undo mean subtraction\n",
    "\n",
    "    # clamp values in [0, 255]\n",
    "    image[image < 0], image[image > 255] = 0, 255\n",
    "\n",
    "    # round and cast from float32 to uint8\n",
    "    image = np.round(image)\n",
    "    image = np.require(image, dtype=np.uint8)\n",
    "\n",
    "    return image"
   ]
  },
  {
   "cell_type": "code",
   "execution_count": 3,
   "metadata": {},
   "outputs": [],
   "source": [
    "import os\n",
    "# os.chdir('examples')\n",
    "weights = os.path.join(caffe_root, 'models/VGG_ILSVRC_16_layers/VGG_ILSVRC_16_layers.caffemodel')\n",
    "assert os.path.exists(weights)"
   ]
  },
  {
   "cell_type": "code",
   "execution_count": 4,
   "metadata": {},
   "outputs": [],
   "source": [
    "full_dataset = False\n",
    "if full_dataset:\n",
    "    NUM_STYLE_IMAGES = NUM_STYLE_LABELS = -1\n",
    "else:\n",
    "    NUM_STYLE_IMAGES =2005\n",
    "    NUM_STYLE_LABELS = 30\n",
    "# Load ImageNet labels to imagenet_labels\n",
    "# imagenet_label_file = caffe_root + 'data/ilsvrc12/synset_words.txt'\n",
    "# imagenet_labels = list(np.loadtxt(imagenet_label_file, str, delimiter='\\t'))\n",
    "# assert len(imagenet_labels) == 1000\n",
    "# print 'Loaded ImageNet labels:\\n', '\\n'.join(imagenet_labels[:10] + ['...'])\n",
    "\n",
    "# Load style labels to style_labels\n",
    "style_label_file = caffe_root + 'data/CUB2011/classes.txt'\n",
    "t=np.loadtxt(style_label_file, str, delimiter='\\t')\n",
    "style_labels =[t[i].split('.')[1] for i in range(200)]\n",
    "# style_labels =list(np.loadtxt(style_label_file, str, delimiter='\\t'))\n",
    "# if NUM_STYLE_LABELS > 0:\n",
    "#     style_labels = style_labels[:NUM_STYLE_LABELS]\n",
    "# print '\\nLoaded style labels:\\n',style_labels"
   ]
  },
  {
   "cell_type": "code",
   "execution_count": 5,
   "metadata": {},
   "outputs": [],
   "source": [
    "t=np.loadtxt(style_label_file, str, delimiter='\\t')"
   ]
  },
  {
   "cell_type": "code",
   "execution_count": 17,
   "metadata": {},
   "outputs": [
    {
     "data": {
      "text/plain": [
       "(200,)"
      ]
     },
     "execution_count": 17,
     "metadata": {},
     "output_type": "execute_result"
    }
   ],
   "source": [
    "t.shape"
   ]
  },
  {
   "cell_type": "code",
   "execution_count": 5,
   "metadata": {},
   "outputs": [],
   "source": [
    "from caffe import layers as L\n",
    "from caffe import params as P\n",
    "\n",
    "weight_param = dict(lr_mult=1, decay_mult=1)\n",
    "bias_param   = dict(lr_mult=2, decay_mult=0)\n",
    "learned_param = [weight_param, bias_param]\n",
    "\n",
    "frozen_param = [dict(lr_mult=0)] * 2\n",
    "\n",
    "def conv_relu(bottom, ks, nout, stride=1, pad=0, group=1,\n",
    "              param=learned_param,\n",
    "              weight_filler=dict(type='gaussian', std=0.01),\n",
    "              bias_filler=dict(type='constant', value=0.1)):\n",
    "    conv = L.Convolution(bottom, kernel_size=ks, stride=stride,\n",
    "                         num_output=nout, pad=pad, group=group,\n",
    "                         param=param, weight_filler=weight_filler,\n",
    "                         bias_filler=bias_filler)\n",
    "    return conv, L.ReLU(conv, in_place=True)\n",
    "\n",
    "def fc_relu(bottom, nout, param=learned_param,\n",
    "            weight_filler=dict(type='gaussian', std=0.005),\n",
    "            bias_filler=dict(type='constant', value=0.1)):\n",
    "    fc = L.InnerProduct(bottom, num_output=nout, param=param,\n",
    "                        weight_filler=weight_filler,\n",
    "                        bias_filler=bias_filler)\n",
    "    return fc, L.ReLU(fc, in_place=True)\n",
    "\n",
    "def max_pool(bottom, ks, stride=1):\n",
    "    return L.Pooling(bottom, pool=P.Pooling.MAX, kernel_size=ks, stride=stride)\n",
    "\n",
    "def caffenet(data, label=None, train=True, num_classes=1000,\n",
    "             classifier_name='fc8', learn_all=False):\n",
    "    \"\"\"Returns a NetSpec specifying CaffeNet, following the original proto text\n",
    "       specification (./models/bvlc_reference_caffenet/train_val.prototxt).\"\"\"\n",
    "    n = caffe.NetSpec()\n",
    "    n.data = data\n",
    "    param = learned_param if learn_all else frozen_param\n",
    "    n.conv1_1, n.relu1_1 = conv_relu(n.data,ks=3, nout=64, pad=1,param=param)\n",
    "    n.conv1_2, n.relu1_2 = conv_relu(n.relu1_1, ks=3 ,nout=64, pad=1,param=param)\n",
    "    n.pool1 = max_pool(n.relu1_2, ks=2, stride=2)\n",
    "    n.conv2_1, n.relu2_1 = conv_relu(n.pool1,ks=3,  nout=128, pad=1, param=param)\n",
    "    n.conv2_2, n.relu2_2 = conv_relu(n.relu2_1, ks=3, nout=128, pad=1,param=param)\n",
    "    n.pool2 = max_pool(n.relu2_2, ks=2, stride=2)\n",
    "    n.conv3_1, n.relu3_1 = conv_relu(n.pool2, ks=3, nout=256, pad=1,param=param)\n",
    "    n.conv3_2, n.relu3_2 = conv_relu(n.relu3_1, ks=3, nout=256, pad=1,param=param)\n",
    "    n.conv3_3, n.relu3_3 = conv_relu(n.relu3_2, ks=3, nout=256, pad=1,param=param)\n",
    "    n.pool3 = max_pool(n.relu3_3, ks=2, stride=2)\n",
    "    n.conv4_1, n.relu4_1 = conv_relu(n.pool3,  ks=3, nout=512, pad=1,param=param)\n",
    "    n.conv4_2, n.relu4_2 = conv_relu(n.relu4_1, ks=3, nout=512, pad=1,param=param)\n",
    "    n.conv4_3, n.relu4_3 = conv_relu(n.relu4_2, ks=3, nout=512, pad=1,param=param)\n",
    "    n.pool4 = max_pool(n.relu4_3, ks=2, stride=2)\n",
    "    n.conv5_1, n.relu5_1 = conv_relu(n.pool4, ks=3, nout=512, pad=1,param=param)\n",
    "    n.conv5_2, n.relu5_2 = conv_relu(n.relu5_1, ks=3, nout=512, pad=1,param=param)\n",
    "    n.conv5_3, n.relu5_3 = conv_relu(n.relu5_2, ks=3, nout=512, pad=1,param=param)\n",
    "    n.pool5 = max_pool(n.relu5_3, ks=2, stride=2)  \n",
    "    n.fc6, n.relu6 = fc_relu(n.pool5, 4096, param=param)\n",
    "    if train:\n",
    "        n.drop6 = fc7input = L.Dropout(n.relu6, in_place=True)\n",
    "    else:\n",
    "        fc7input = n.relu6\n",
    "    n.fc7, n.relu7 = fc_relu(fc7input, 4096, param=param)\n",
    "    if train:\n",
    "        n.drop7 = fc8input = L.Dropout(n.relu7, in_place=True)\n",
    "    else:\n",
    "        fc8input = n.relu7\n",
    "    # always learn fc8 (param=learned_param)\n",
    "    fc8 = L.InnerProduct(fc8input, num_output=num_classes, param=learned_param)\n",
    "    # give fc8 the name specified by argument `classifier_name`\n",
    "    n.__setattr__(classifier_name, fc8)\n",
    "    if not train:\n",
    "        n.probs = L.Softmax(fc8)\n",
    "    if label is not None:\n",
    "        n.label = label\n",
    "        n.loss = L.SoftmaxWithLoss(fc8, n.label)\n",
    "        n.acc = L.Accuracy(fc8, n.label)\n",
    "    # write the net to a temporary file and return its filename\n",
    "    with tempfile.NamedTemporaryFile(delete=False) as f:\n",
    "        f.write(str(n.to_proto()))\n",
    "        return f.name"
   ]
  },
  {
   "cell_type": "code",
   "execution_count": 24,
   "metadata": {},
   "outputs": [],
   "source": [
    "# dummy_data = L.DummyData(shape=dict(dim=[1, 3, 224, 224]))\n",
    "# imagenet_net_filename = caffenet(data=dummy_data, train=False)\n",
    "# imagenet_net = caffe.Net(imagenet_net_filename, weights, caffe.TEST)\n",
    "# imagenet_net_filename"
   ]
  },
  {
   "cell_type": "code",
   "execution_count": 1,
   "metadata": {},
   "outputs": [],
   "source": [
    "def style_net(train=True, learn_all=False, subset=None):\n",
    "    if subset is None:\n",
    "        subset = 'train' if train else 'test'\n",
    "    source = caffe_root + 'data/bird_recognition/%s.txt' % subset\n",
    "    transform_param = dict(mirror=train, crop_size=224,\n",
    "        mean_file=caffe_root + 'data/ilsvrc12/imagenet_mean.binaryproto')\n",
    "    style_data, style_label = L.ImageData(\n",
    "        transform_param=transform_param, source=source,\n",
    "        batch_size=50, new_height=256, new_width=256, ntop=2)\n",
    "    return caffenet(data=style_data, label=style_label, train=train,\n",
    "                    num_classes=NUM_STYLE_LABELS,\n",
    "                    classifier_name='fc8_birdrecog',\n",
    "                    learn_all=learn_all)"
   ]
  },
  {
   "cell_type": "code",
   "execution_count": 26,
   "metadata": {},
   "outputs": [],
   "source": [
    "# untrained_style_net = caffe.Net(style_net(train=False, subset='train'),\n",
    "#                                 weights, caffe.TEST)\n",
    "\n",
    "# untrained_style_net.forward()\n",
    "# style_data_batch = untrained_style_net.blobs['data'].data.copy()\n",
    "# style_label_batch = np.array(untrained_style_net.blobs['label'].data, dtype=np.int32)"
   ]
  },
  {
   "cell_type": "code",
   "execution_count": 6,
   "metadata": {},
   "outputs": [],
   "source": [
    "def disp_preds(net, image, labels, k=5, name='ImageNet'):\n",
    "    input_blob = net.blobs['data']\n",
    "    net.blobs['data'].data[0, ...] = image\n",
    "    probs = net.forward(start='conv1')['probs'][0]\n",
    "    top_k = (-probs).argsort()[:k]\n",
    "    print 'top %d predicted %s labels =' % (k, name)\n",
    "    print '\\n'.join('\\t(%d) %5.2f%% %s' % (i+1, 100*probs[p], labels[p])\n",
    "                    for i, p in enumerate(top_k))\n",
    "\n",
    "def disp_imagenet_preds(net, image):\n",
    "    disp_preds(net, image, imagenet_labels, name='VGG16Net')\n",
    "\n",
    "def disp_style_preds(net, image):\n",
    "    disp_preds(net, image, style_labels, name='style')"
   ]
  },
  {
   "cell_type": "code",
   "execution_count": 9,
   "metadata": {
    "scrolled": true
   },
   "outputs": [],
   "source": [
    "# batch_index = 10\n",
    "# image = style_data_batch[batch_index]\n",
    "# plt.imshow(deprocess_net_image(image))\n",
    "# print 'actual label =', style_labels[style_label_batch[batch_index]]"
   ]
  },
  {
   "cell_type": "code",
   "execution_count": 10,
   "metadata": {},
   "outputs": [],
   "source": [
    "# disp_imagenet_preds(imagenet_net, image)"
   ]
  },
  {
   "cell_type": "code",
   "execution_count": 11,
   "metadata": {},
   "outputs": [],
   "source": [
    "# disp_style_preds(untrained_style_net, image)"
   ]
  },
  {
   "cell_type": "code",
   "execution_count": 12,
   "metadata": {},
   "outputs": [],
   "source": [
    "# diff = untrained_style_net.blobs['fc7'].data[0] - imagenet_net.blobs['fc7'].data[0]\n",
    "# error = (diff ** 2).sum()\n",
    "# assert error < 1e-8"
   ]
  },
  {
   "cell_type": "code",
   "execution_count": 13,
   "metadata": {},
   "outputs": [],
   "source": [
    "# del untrained_style_net"
   ]
  },
  {
   "cell_type": "code",
   "execution_count": 7,
   "metadata": {},
   "outputs": [],
   "source": [
    "from caffe.proto import caffe_pb2\n",
    "\n",
    "def solver(train_net_path, test_net_path=None, base_lr=0.001):\n",
    "    s = caffe_pb2.SolverParameter()\n",
    "\n",
    "    # Specify locations of the train and (maybe) test networks.\n",
    "    s.train_net = train_net_path\n",
    "    if test_net_path is not None:\n",
    "        s.test_net.append(test_net_path)\n",
    "        s.test_interval = 1000  # Test after every 1000 training iterations.\n",
    "        s.test_iter.append(100) # Test on 100 batches each time we test.\n",
    "\n",
    "    # The number of iterations over which to average the gradient.\n",
    "    # Effectively boosts the training batch size by the given factor, without\n",
    "    # affecting memory utilization.\n",
    "    s.iter_size = 1\n",
    "    \n",
    "    s.max_iter = 100000     # # of times to update the net (training iterations)\n",
    "    \n",
    "    # Solve using the stochastic gradient descent (SGD) algorithm.\n",
    "    # Other choices include 'Adam' and 'RMSProp'.\n",
    "    s.type = 'SGD'\n",
    "\n",
    "    # Set the initial learning rate for SGD.\n",
    "    s.base_lr = base_lr\n",
    "\n",
    "    # Set `lr_policy` to define how the learning rate changes during training.\n",
    "    # Here, we 'step' the learning rate by multiplying it by a factor `gamma`\n",
    "    # every `stepsize` iterations.\n",
    "    s.lr_policy = 'step'\n",
    "    s.gamma = 0.1\n",
    "    s.stepsize = 20000\n",
    "\n",
    "    # Set other SGD hyperparameters. Setting a non-zero `momentum` takes a\n",
    "    # weighted average of the current gradient and previous gradients to make\n",
    "    # learning more stable. L2 weight decay regularizes learning, to help prevent\n",
    "    # the model from overfitting.\n",
    "    s.momentum = 0.9\n",
    "    s.weight_decay = 5e-4\n",
    "\n",
    "    # Display the current training loss and accuracy every 1000 iterations.\n",
    "    s.display = 1000\n",
    "\n",
    "    # Snapshots are files used to store networks we've trained.  Here, we'll\n",
    "    # snapshot every 10K iterations -- ten times during training.\n",
    "    s.snapshot = 10000\n",
    "    s.snapshot_prefix = caffe_root + 'models/finetune_bird_recognition/bird_recognition'\n",
    "    \n",
    "    # Train on the GPU.  Using the CPU to train large networks is very slow.\n",
    "    s.solver_mode = caffe_pb2.SolverParameter.GPU\n",
    "    \n",
    "    # Write the solver to a temporary file and return its filename.\n",
    "    with tempfile.NamedTemporaryFile(delete=False) as f:\n",
    "        f.write(str(s))\n",
    "        return f.name"
   ]
  },
  {
   "cell_type": "code",
   "execution_count": 8,
   "metadata": {},
   "outputs": [],
   "source": [
    "def run_solvers(niter, solvers, disp_interval=10):\n",
    "    \"\"\"Run solvers for niter iterations,\n",
    "       returning the loss and accuracy recorded each iteration.\n",
    "       `solvers` is a list of (name, solver) tuples.\"\"\"\n",
    "    blobs = ('loss', 'acc')\n",
    "    loss, acc = ({name: np.zeros(niter) for name, _ in solvers}\n",
    "                 for _ in blobs)\n",
    "    for it in range(niter):\n",
    "        for name, s in solvers:\n",
    "            s.step(1)  # run a single SGD step in Caffe\n",
    "            loss[name][it], acc[name][it] = (s.net.blobs[b].data.copy()\n",
    "                                             for b in blobs)\n",
    "        if it % disp_interval == 0 or it + 1 == niter:\n",
    "            loss_disp = '; '.join('%s: loss=%.3f, acc=%2d%%' %\n",
    "                                  (n, loss[n][it], np.round(100*acc[n][it]))\n",
    "                                  for n, _ in solvers)\n",
    "            print '%3d) %s' % (it, loss_disp)     \n",
    "    # Save the learned weights from both nets.\n",
    "    weight_dir = tempfile.mkdtemp()\n",
    "    weights = {}\n",
    "    for name, s in solvers:\n",
    "        filename = 'weights.%s.caffemodel' % name\n",
    "        weights[name] = os.path.join(weight_dir, filename)\n",
    "        s.net.save(weights[name])\n",
    "    return loss, acc, weights"
   ]
  },
  {
   "cell_type": "code",
   "execution_count": 9,
   "metadata": {},
   "outputs": [],
   "source": [
    "niter = 1  # number of iterations to train\n",
    "\n",
    "# Reset style_solver as before.\n",
    "style_solver_filename = solver(style_net(train=True))"
   ]
  },
  {
   "cell_type": "code",
   "execution_count": 10,
   "metadata": {},
   "outputs": [],
   "source": [
    "style_solver = caffe.get_solver(style_solver_filename)"
   ]
  },
  {
   "cell_type": "code",
   "execution_count": 11,
   "metadata": {},
   "outputs": [],
   "source": [
    "style_solver.net.copy_from(weights)\n"
   ]
  },
  {
   "cell_type": "code",
   "execution_count": 12,
   "metadata": {},
   "outputs": [],
   "source": [
    "scratch_style_solver_filename = solver(style_net(train=True))\n",
    "scratch_style_solver = caffe.get_solver(scratch_style_solver_filename)"
   ]
  },
  {
   "cell_type": "code",
   "execution_count": null,
   "metadata": {},
   "outputs": [],
   "source": [
    "print 'Running solvers for %d iterations...' % niter\n",
    "solvers = [('pretrained', style_solver),\n",
    "           ('scratch', scratch_style_solver)]\n",
    "loss, acc, weights = run_solvers(niter, solvers)\n",
    "print 'Done.'\n",
    "\n",
    "train_loss, scratch_train_loss = loss['pretrained'], loss['scratch']\n",
    "train_acc, scratch_train_acc = acc['pretrained'], acc['scratch']\n",
    "style_weights, scratch_style_weights = weights['pretrained'], weights['scratch']\n",
    "\n",
    "# Delete solvers to save memory.\n",
    "del style_solver, scratch_style_solver, solvers"
   ]
  },
  {
   "cell_type": "code",
   "execution_count": null,
   "metadata": {},
   "outputs": [],
   "source": [
    "niter = 1  # number of iterations to train\n",
    "\n",
    "# Reset style_solver as before.\n",
    "style_solver_filename = solver(style_net(train=True))\n",
    "style_solver = caffe.get_solver(style_solver_filename)\n",
    "style_solver.net.copy_from(weights)\n",
    "\n",
    "# For reference, we also create a solver that isn't initialized from\n",
    "# the pretrained ImageNet weights.\n",
    "scratch_style_solver_filename = solver(style_net(train=True))\n",
    "scratch_style_solver = caffe.get_solver(scratch_style_solver_filename)\n",
    "\n",
    "print 'Running solvers for %d iterations...' % niter\n",
    "solvers = [('pretrained', style_solver),\n",
    "           ('scratch', scratch_style_solver)]\n",
    "loss, acc, weights = run_solvers(niter, solvers)\n",
    "print 'Done.'\n",
    "\n",
    "train_loss, scratch_train_loss = loss['pretrained'], loss['scratch']\n",
    "train_acc, scratch_train_acc = acc['pretrained'], acc['scratch']\n",
    "style_weights, scratch_style_weights = weights['pretrained'], weights['scratch']\n",
    "\n",
    "# Delete solvers to save memory.\n",
    "del style_solver, scratch_style_solver, solvers"
   ]
  },
  {
   "cell_type": "code",
   "execution_count": 14,
   "metadata": {
    "collapsed": true
   },
   "outputs": [],
   "source": [
    "def eval_style_net(weights, test_iters=10):\n",
    "    test_net = caffe.Net(style_net(train=False), weights, caffe.TEST)\n",
    "    accuracy = 0\n",
    "    for it in xrange(test_iters):\n",
    "        accuracy += test_net.forward()['acc']\n",
    "    accuracy /= test_iters\n",
    "    return test_net, accuracy"
   ]
  },
  {
   "cell_type": "code",
   "execution_count": null,
   "metadata": {
    "collapsed": true
   },
   "outputs": [],
   "source": [
    "test_net, accuracy = eval_style_net(style_weights)\n",
    "print 'Accuracy, trained from ImageNet initialization: %3.1f%%' % (100*accuracy, )\n",
    "scratch_test_net, scratch_accuracy = eval_style_net(scratch_style_weights)\n",
    "print 'Accuracy, trained from   random initialization: %3.1f%%' % (100*scratch_accuracy, )"
   ]
  },
  {
   "cell_type": "code",
   "execution_count": null,
   "metadata": {
    "collapsed": true
   },
   "outputs": [],
   "source": [
    "batch_index = 1\n",
    "image = test_net.blobs['data'].data[batch_index]\n",
    "plt.imshow(deprocess_net_image(image))\n",
    "print 'actual label =', style_labels[int(test_net.blobs['label'].data[batch_index])]\n",
    "disp_style_preds(test_net, image)"
   ]
  },
  {
   "cell_type": "code",
   "execution_count": null,
   "metadata": {
    "collapsed": true
   },
   "outputs": [],
   "source": [
    "def disp_preds(net, image, labels, k=5, name='ImageNet'):\n",
    "    input_blob = net.blobs['data']\n",
    "    net.blobs['data'].data[0, ...] = image\n",
    "    probs = net.forward(start='conv1')['probs'][0]\n",
    "    top_k = (-probs).argsort()[:k]\n",
    "    print 'top %d predicted %s labels =' % (k, name)\n",
    "    print '\\n'.join('\\t(%d) %5.2f%% %s' % (i+1, 100*probs[p], labels[p])\n",
    "                    for i, p in enumerate(top_k))\n",
    "\n",
    "def disp_imagenet_preds(net, image):\n",
    "    disp_preds(net, image, imagenet_labels, name='ImageNet')\n",
    "\n",
    "def disp_style_preds(net, image):\n",
    "    disp_preds(net, image, style_labels, name='style')"
   ]
  },
  {
   "cell_type": "code",
   "execution_count": null,
   "metadata": {
    "collapsed": true
   },
   "outputs": [],
   "source": [
    "for image in images:\n",
    "    net.blobs['data'].data[0, ...] = image\n",
    "    probs = net.forward(start='conv1')['probs'][0]"
   ]
  },
  {
   "cell_type": "code",
   "execution_count": null,
   "metadata": {
    "collapsed": true
   },
   "outputs": [],
   "source": [
    "dummy_data = L.DummyData(shape=dict(dim=[1, 3, 227, 227]))  #图片数据转化好的\n",
    "imagenet_net_filename = caffenet(data=dummy_data, train=False)\n",
    "imagenet_net = caffe.Net(imagenet_net_filename, weights, caffe.TEST)  # 新weight"
   ]
  },
  {
   "cell_type": "code",
   "execution_count": null,
   "metadata": {
    "collapsed": true
   },
   "outputs": [],
   "source": [
    "import numpy as np\n",
    "import pandas as pd\n",
    "from pandas import  DataFrame\n",
    "f = open(\"D:/biye/shuju/qqqq.txt\")             # 返回一个文件对象  \n",
    "line = f.readline()          # 调用文件的 readline()方法\n",
    "#     计算概率\n",
    "b=line.split('/')[-1].split(\".\")[0]\n",
    "data = DataFrame(np.arange(90).reshape(30,3),columns=list('wxy'))\n",
    "data['w']=b\n",
    "data['x']=list(range(1,31))\n",
    "\n",
    "for line in f:\n",
    "#     计算概率    print (line)\n",
    "    b=line.split('/')[-1].split(\".\")[0]\n",
    "    data1 = DataFrame(np.arange(90).reshape(30,3),columns=list('wxy'))\n",
    "\n",
    "    data1['w']=b\n",
    "    data1['x']=list(range(1,31))\n",
    "    data=pd.concat([data,data1])\n",
    "\n",
    "f.close()"
   ]
  },
  {
   "cell_type": "code",
   "execution_count": null,
   "metadata": {
    "collapsed": true
   },
   "outputs": [],
   "source": [
    "    blobs = ('loss', 'acc')\n",
    "    loss, acc = ({name: np.zeros(niter) for name, _ in solvers}\n",
    "                 for _ in blobs)"
   ]
  },
  {
   "cell_type": "code",
   "execution_count": 11,
   "metadata": {
    "collapsed": true
   },
   "outputs": [],
   "source": [
    "blobs = ('loss', 'acc')"
   ]
  },
  {
   "cell_type": "code",
   "execution_count": 12,
   "metadata": {},
   "outputs": [
    {
     "data": {
      "text/plain": [
       "('loss', 'acc')"
      ]
     },
     "execution_count": 12,
     "metadata": {},
     "output_type": "execute_result"
    }
   ],
   "source": [
    "blobs"
   ]
  },
  {
   "cell_type": "code",
   "execution_count": 28,
   "metadata": {
    "collapsed": true
   },
   "outputs": [],
   "source": [
    "solvers=[('name1',5),('name', 5)]\n"
   ]
  },
  {
   "cell_type": "code",
   "execution_count": 29,
   "metadata": {},
   "outputs": [
    {
     "data": {
      "text/plain": [
       "[('name1', 5), ('name', 5)]"
      ]
     },
     "execution_count": 29,
     "metadata": {},
     "output_type": "execute_result"
    }
   ],
   "source": [
    "solvers"
   ]
  },
  {
   "cell_type": "code",
   "execution_count": 30,
   "metadata": {
    "collapsed": true
   },
   "outputs": [],
   "source": [
    "blobs = ('loss', 'acc')\n",
    "loss, acc = ({name: np.zeros(10) for name, _ in solvers}\n",
    "                 for _ in blobs)"
   ]
  },
  {
   "cell_type": "code",
   "execution_count": 31,
   "metadata": {},
   "outputs": [
    {
     "data": {
      "text/plain": [
       "{'name': array([ 0.,  0.,  0.,  0.,  0.,  0.,  0.,  0.,  0.,  0.]),\n",
       " 'name1': array([ 0.,  0.,  0.,  0.,  0.,  0.,  0.,  0.,  0.,  0.])}"
      ]
     },
     "execution_count": 31,
     "metadata": {},
     "output_type": "execute_result"
    }
   ],
   "source": [
    "{name: np.zeros(10) for name, _ in solvers}"
   ]
  },
  {
   "cell_type": "code",
   "execution_count": 24,
   "metadata": {},
   "outputs": [
    {
     "data": {
      "text/plain": [
       "array([ 0.,  0.,  0.,  0.,  0.,  0.,  0.,  0.,  0.,  0.])"
      ]
     },
     "execution_count": 24,
     "metadata": {},
     "output_type": "execute_result"
    }
   ],
   "source": [
    "loss[('name1',\n",
    "  'solver1')]"
   ]
  },
  {
   "cell_type": "code",
   "execution_count": 12,
   "metadata": {},
   "outputs": [
    {
     "data": {
      "text/plain": [
       "{('name1',\n",
       "  'solver1'): array([ 0.,  0.,  0.,  0.,  0.,  0.,  0.,  0.,  0.,  0.])}"
      ]
     },
     "execution_count": 12,
     "metadata": {},
     "output_type": "execute_result"
    }
   ],
   "source": [
    "acc"
   ]
  }
 ],
 "metadata": {
  "kernelspec": {
   "display_name": "Python 2",
   "language": "python",
   "name": "python2"
  },
  "language_info": {
   "codemirror_mode": {
    "name": "ipython",
    "version": 2
   },
   "file_extension": ".py",
   "mimetype": "text/x-python",
   "name": "python",
   "nbconvert_exporter": "python",
   "pygments_lexer": "ipython2",
   "version": "2.7.12"
  }
 },
 "nbformat": 4,
 "nbformat_minor": 2
}
