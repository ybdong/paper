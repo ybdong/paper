{
 "cells": [
  {
   "cell_type": "code",
   "execution_count": 11,
   "metadata": {
    "collapsed": true
   },
   "outputs": [],
   "source": [
    "from __future__ import division\n",
    "\n",
    "import PIL\n",
    "\n",
    "import Image\n",
    "\n",
    "import numpy\n",
    "\n",
    "import os\n",
    "\n",
    "import random\n",
    "import numexpr\n",
    "\n",
    "import time\n",
    "\n",
    "import ImageFont, ImageDraw\n",
    "root=\"\"\n",
    "\n",
    "W_num =1\n",
    "\n",
    "H_num = 1\n",
    "\n",
    "W_size = 480\n",
    "\n",
    "H_size = 360"
   ]
  },
  {
   "cell_type": "code",
   "execution_count": 2,
   "metadata": {
    "collapsed": true
   },
   "outputs": [],
   "source": [
    "\n",
    "# name: transfer\n",
    "# todo: 将照片转为一样的大小\n",
    "def transfer(img_path, dst_width,dst_height):\n",
    "\n",
    "    STA = time.time()\n",
    "    im = Image.open(img_path)\n",
    "    if im.mode != \"RGBA\":\n",
    "        im = im.convert(\"RGBA\")\n",
    "    s_w,s_h = im.size\n",
    "    if s_w < s_h:\n",
    "        im = im.rotate(90)\n",
    "\n",
    "    #if dst_width*0.1/s_w > dst_height*0.1/s_h:\n",
    "    #    ratio = dst_width*0.1/s_w\n",
    "    #else:\n",
    "    #    ratio = dst_height*0.1/s_h\n",
    "    resized_img = im.resize((dst_width, dst_height), Image.ANTIALIAS)\n",
    "    resized_img = resized_img.crop((0,0,dst_width,dst_height))\n",
    "    print \"transfer Func Time %s\"%(time.time()-STA)\n",
    "\n",
    "    return resized_img"
   ]
  },
  {
   "cell_type": "code",
   "execution_count": 4,
   "metadata": {
    "collapsed": true
   },
   "outputs": [],
   "source": [
    "# name: createNevImg\n",
    "# todo: 创造一张新的图片，并保存\n",
    "def createNevImg():\n",
    "    iW_size = W_num * W_size\n",
    "    iH_size = H_num * H_size\n",
    "    I = numpy.array(transfer(\"test.png\", iW_size, iH_size))\n",
    "    I = numexpr.evaluate(\"\"\"I*(1-alpha)\"\"\")\n",
    "\n",
    "    for i in range(W_num):\n",
    "        for j in range(H_num):\n",
    "            SH = I[(j*H_size):((j+1)*H_size), (i*W_size):((i+1)*W_size)]\n",
    "            STA = time.time()\n",
    "            DA = transfer(\"cat.jpg\", W_size, H_size)\n",
    "#             print \"Cal Func Time %s\"%(time.time()-STA)\n",
    "            res  = numexpr.evaluate(\"\"\"SH+DA*alpha\"\"\")\n",
    "            I[(j*H_size):((j+1)*H_size), (i*W_size):((i+1)*W_size)] = res\n",
    "    img = Image.fromarray(I.astype(numpy.uint8))\n",
    "    img = img.point(lambda i : i * 1.5)\n",
    "    img.save(\"createNevImg_past.jpg\")\n",
    "    print \"createNevImg Func time %s\"%(time.time()-STA)"
   ]
  },
  {
   "cell_type": "code",
   "execution_count": 8,
   "metadata": {
    "collapsed": true
   },
   "outputs": [],
   "source": [
    "\n",
    "# # name: createNevImg\n",
    "# # todo: 创建一张新的照片并保存\n",
    "# def createNevImg():\n",
    "#     STAA = time.time()\n",
    "#     iW_size = W_num * W_size\n",
    "#     iH_size = H_num * H_size\n",
    "#     print root\n",
    "#     I = numpy.array(transfer(\"test.png\", iW_size, iH_size)) * 1.0\n",
    "\n",
    "#     for i in range(W_num):\n",
    "#         for j in range(H_num):\n",
    "#             s = random.choice(aval)\n",
    "#             res = I[ j*H_size:(j+1)*H_size, i*W_size:(i+1)*W_size] * numpy.array(transfer(s, W_size, H_size))/255\n",
    "#             I[ j*H_size:(j+1)*H_size, i*W_size:(i+1)*W_size] = res\n",
    "\n",
    "#     img = Image.fromarray(I.astype(numpy.uint8))\n",
    "#     img = img.point(lambda i : i * 1.5)\n",
    "#     img.save(\"createNevImg_past.jpg\")\n",
    "#     print \"createNevImg Func time %s\"%(time.time()-STAA)\n"
   ]
  },
  {
   "cell_type": "code",
   "execution_count": 12,
   "metadata": {
    "scrolled": true
   },
   "outputs": [
    {
     "name": "stdout",
     "output_type": "stream",
     "text": [
      "transfer Func Time 0.0429999828339\n",
      "transfer Func Time 0.0420000553131\n",
      "createNevImg Func time 0.0599999427795\n"
     ]
    }
   ],
   "source": [
    "alpha=0.5\n",
    "createNevImg()"
   ]
  },
  {
   "cell_type": "code",
   "execution_count": null,
   "metadata": {
    "collapsed": true
   },
   "outputs": [],
   "source": [
    "# name: newRotateImage\n",
    "# todo: 将createnevimg中得到的照片旋转，粘贴到另外一张照片中\n",
    "def newRotateImage():\n",
    "    imName = \"createNevImg_past.jpg\"\n",
    "    print \"正在将图片旋转中...\"\n",
    "    STA = time.time()\n",
    "    im = Image.open(imName)\n",
    "    im2 = Image.new(\"RGBA\", (W_size * int(W_num + 1), H_size * (H_num + 4)))\n",
    "    im2.paste(im, (int(0.5 * W_size), int(0.8 * H_size)))\n",
    "    im2 = im2.rotate(359)\n",
    "    im2.save(\"newRotateImage_past.jpg\")\n",
    "    print \"newRotateImage Func Time %s\"%(time.time()-STA)"
   ]
  },
  {
   "cell_type": "code",
   "execution_count": null,
   "metadata": {
    "collapsed": true
   },
   "outputs": [],
   "source": [
    "# name: writetoimage\n",
    "# todo: 在图片中写祝福语\n",
    "def writeToImage():\n",
    "    print \"正在向图片中添加祝福语...\"\n",
    "    STA = time.time()\n",
    "    img = Image.open(\"newRotateImage_past.jpg\")\n",
    "    font = ImageFont.truetype('xindexingcao57.ttf', 600)\n",
    "    draw = ImageDraw.Draw(img)\n",
    "    draw.ink = 21 + 118*256 + 65*256*256\n",
    "\n",
    "#    draw.text((0,H_size * 6),unicode(\"happy every day\",'utf-8'),(0,0,0),font=font)\n",
    "\n",
    "    tHeight = H_num + 1\n",
    "    draw.text((W_size * 0.5, H_size * tHeight), \"happy life written by python\", font = font)\n",
    "    img.save(\"final_past.jpg\")\n",
    "    print \"writeToImage Func Time %s\"%(time.time()-STA)"
   ]
  }
 ],
 "metadata": {
  "kernelspec": {
   "display_name": "Python 2",
   "language": "python",
   "name": "python2"
  },
  "language_info": {
   "codemirror_mode": {
    "name": "ipython",
    "version": 2
   },
   "file_extension": ".py",
   "mimetype": "text/x-python",
   "name": "python",
   "nbconvert_exporter": "python",
   "pygments_lexer": "ipython2",
   "version": "2.7.13"
  }
 },
 "nbformat": 4,
 "nbformat_minor": 2
}
